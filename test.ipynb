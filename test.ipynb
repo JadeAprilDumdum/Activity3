{
 "cells": [
  {
   "cell_type": "code",
   "execution_count": null,
   "metadata": {},
   "outputs": [
    {
     "name": "stdout",
     "output_type": "stream",
     "text": [
      "10\n"
     ]
    }
   ],
   "source": [
    "a = -25\n",
    "if a > 10:\n",
    "    print ('a is greater than 10')\n",
    "    if a >= 15:\n",
    "        print ('a is also at least 15')\n",
    "elif a > 5:\n",
    "    print ('a is greater than 5 but not greater than 10')\n",
    "else:\n",
    "    print ('no condition matched')\n",
    "    print ('so a is 5 or less')"
   ]
  }
 ],
 "metadata": {
  "kernelspec": {
   "display_name": "Python 3.10.7 ('virt': venv)",
   "language": "python",
   "name": "python3"
  },
  "language_info": {
   "codemirror_mode": {
    "name": "ipython",
    "version": 3
   },
   "file_extension": ".py",
   "mimetype": "text/x-python",
   "name": "python",
   "nbconvert_exporter": "python",
   "pygments_lexer": "ipython3",
   "version": "3.10.7"
  },
  "orig_nbformat": 4,
  "vscode": {
   "interpreter": {
    "hash": "9f17d62edbd358c9f2b988c6392c185e71ff9835959a6c4de13f60574570f94d"
   }
  }
 },
 "nbformat": 4,
 "nbformat_minor": 2
}
